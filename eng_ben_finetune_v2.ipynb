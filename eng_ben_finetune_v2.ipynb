{
 "cells": [
  {
   "cell_type": "code",
   "execution_count": 1,
   "id": "1df2a756",
   "metadata": {
    "id": "1df2a756"
   },
   "outputs": [],
   "source": [
    "import numpy as np\n",
    "import pandas as pd"
   ]
  },
  {
   "cell_type": "code",
   "execution_count": 2,
   "id": "72ee0e0a",
   "metadata": {
    "id": "72ee0e0a"
   },
   "outputs": [],
   "source": [
    "def read(path):\n",
    "    df=pd.read_csv(path,delimiter='\\t',header=None)\n",
    "    df.rename(columns={0:'image_id',1:'x',2:'y',3:'width',4:'height',5:'english',6:'bengali'},inplace=True)\n",
    "    df.drop(columns=['x','y','width','height'],axis=1,inplace=True)\n",
    "    return df"
   ]
  },
  {
   "cell_type": "code",
   "execution_count": 3,
   "id": "11a5d25a",
   "metadata": {
    "id": "11a5d25a"
   },
   "outputs": [],
   "source": [
    "\n",
    "train_path=r'https://raw.githubusercontent.com/Sk4467/datasets/main/bengali/bengali-visual-genome-train.txt'\n",
    "test_path=r'https://raw.githubusercontent.com/Sk4467/datasets/main/bengali/bengali-visual-genome-test.txt'"
   ]
  },
  {
   "cell_type": "code",
   "execution_count": 4,
   "id": "1c009e7d",
   "metadata": {
    "id": "1c009e7d"
   },
   "outputs": [],
   "source": [
    "train=read(train_path)\n",
    "test=read(test_path)"
   ]
  },
  {
   "cell_type": "code",
   "execution_count": 5,
   "id": "17ba5f7b",
   "metadata": {
    "id": "17ba5f7b"
   },
   "outputs": [],
   "source": [
    "import datasets\n",
    "from datasets import Dataset, DatasetDict\n",
    "train_dataset = datasets.Dataset.from_pandas(train)\n",
    "train_data = datasets.DatasetDict({'train':train_dataset})"
   ]
  },
  {
   "cell_type": "code",
   "execution_count": 6,
   "id": "68c6299b",
   "metadata": {
    "id": "68c6299b",
    "outputId": "7aa7cb79-5212-46b8-855a-2a14dad7c408"
   },
   "outputs": [
    {
     "name": "stdout",
     "output_type": "stream",
     "text": [
      "<class 'datasets.dataset_dict.DatasetDict'>\n",
      "{'train': (28930, 3)}\n",
      "DatasetDict({\n",
      "    train: Dataset({\n",
      "        features: ['image_id', 'english', 'bengali'],\n",
      "        num_rows: 28930\n",
      "    })\n",
      "})\n"
     ]
    }
   ],
   "source": [
    "print(type(train_data))\n",
    "print(train_data.shape)\n",
    "print(train_data)"
   ]
  },
  {
   "cell_type": "code",
   "execution_count": 7,
   "id": "d5514ca0",
   "metadata": {
    "id": "d5514ca0",
    "outputId": "307cd9c0-d1c3-4219-bb24-a3a6c37f6d7c"
   },
   "outputs": [
    {
     "name": "stdout",
     "output_type": "stream",
     "text": [
      "<class 'datasets.dataset_dict.DatasetDict'>\n",
      "{'test': (1595, 3)}\n",
      "DatasetDict({\n",
      "    test: Dataset({\n",
      "        features: ['image_id', 'english', 'bengali'],\n",
      "        num_rows: 1595\n",
      "    })\n",
      "})\n"
     ]
    }
   ],
   "source": [
    "test_dataset = datasets.Dataset.from_pandas(test)\n",
    "test_data = datasets.DatasetDict({'test':test_dataset})\n",
    "print(type(test_data))\n",
    "print(test_data.shape)\n",
    "print(test_data)"
   ]
  },
  {
   "cell_type": "code",
   "execution_count": 8,
   "id": "b480a31d",
   "metadata": {
    "id": "b480a31d"
   },
   "outputs": [],
   "source": [
    "from transformers import AutoTokenizer\n",
    "\n",
    "checkpoint = \"facebook/nllb-200-distilled-600M\"\n",
    "tokenizer = AutoTokenizer.from_pretrained(checkpoint)"
   ]
  },
  {
   "cell_type": "code",
   "execution_count": 9,
   "id": "7cd08e66",
   "metadata": {
    "id": "7cd08e66"
   },
   "outputs": [],
   "source": [
    "# prefix=\"translate English to hindi : \"\n",
    "def preprocess(data):\n",
    "\n",
    "    inputs=[text for text in data['english']]\n",
    "    target=[text for text in data['bengali']]\n",
    "\n",
    "    model_inputs = {\n",
    "        'id': data['image_id'] ,\n",
    "        'translation': target,  # assign 'translation' directly to 'target'\n",
    "        'input_ids': [],\n",
    "        'attention_mask': [],\n",
    "        'labels' : []\n",
    "    }\n",
    "\n",
    "    try:\n",
    "        # Tokenize all inputs and targets at once, which is more efficient\n",
    "        tokenized_samples = tokenizer(inputs, max_length=128, truncation=True)\n",
    "        labels= tokenizer(target,max_length=128,truncation=True)\n",
    "\n",
    "        # Assign the tokenized samples directly to 'input_ids', 'attention_mask', and 'labels'\n",
    "        model_inputs['input_ids'] = tokenized_samples['input_ids']\n",
    "        model_inputs['attention_mask'] = tokenized_samples['attention_mask']\n",
    "        model_inputs['labels'] = labels['input_ids']  \n",
    "        \n",
    "    except Exception as e:\n",
    "        print(f\"Error occurred: {e}\")\n",
    "\n",
    "    return model_inputs"
   ]
  },
  {
   "cell_type": "code",
   "execution_count": 10,
   "id": "22719f62",
   "metadata": {
    "colab": {
     "referenced_widgets": [
      ""
     ]
    },
    "id": "22719f62",
    "outputId": "596e3f4d-a33b-43cf-9d3c-072e56ebce40"
   },
   "outputs": [
    {
     "data": {
      "application/vnd.jupyter.widget-view+json": {
       "model_id": "",
       "version_major": 2,
       "version_minor": 0
      },
      "text/plain": [
       "Map:   0%|          | 0/28930 [00:00<?, ? examples/s]"
      ]
     },
     "metadata": {},
     "output_type": "display_data"
    },
    {
     "data": {
      "application/vnd.jupyter.widget-view+json": {
       "model_id": "",
       "version_major": 2,
       "version_minor": 0
      },
      "text/plain": [
       "Map:   0%|          | 0/1595 [00:00<?, ? examples/s]"
      ]
     },
     "metadata": {},
     "output_type": "display_data"
    }
   ],
   "source": [
    "tokenized_train_data=train_data.map(preprocess,batched=True)\n",
    "tokenized_test_data=test_data.map(preprocess,batched=True)"
   ]
  },
  {
   "cell_type": "code",
   "execution_count": 11,
   "id": "ff46baa5",
   "metadata": {
    "id": "ff46baa5",
    "outputId": "c4ab1ad7-a96d-4d7b-c6c2-db8252f6bd3c"
   },
   "outputs": [
    {
     "name": "stdout",
     "output_type": "stream",
     "text": [
      "DatasetDict({\n",
      "    train: Dataset({\n",
      "        features: ['image_id', 'english', 'bengali', 'id', 'translation', 'input_ids', 'attention_mask', 'labels'],\n",
      "        num_rows: 28930\n",
      "    })\n",
      "})\n"
     ]
    }
   ],
   "source": [
    "print(tokenized_train_data)"
   ]
  },
  {
   "cell_type": "code",
   "execution_count": 12,
   "id": "7c2d7d29",
   "metadata": {
    "id": "7c2d7d29"
   },
   "outputs": [],
   "source": [
    "from transformers import DataCollatorForSeq2Seq\n",
    "\n",
    "data_collator = DataCollatorForSeq2Seq(tokenizer=tokenizer, model='facebook/nllb-200-distilled-600M')"
   ]
  },
  {
   "cell_type": "code",
   "execution_count": 13,
   "id": "f027b0f8",
   "metadata": {
    "id": "f027b0f8"
   },
   "outputs": [],
   "source": [
    "import evaluate\n",
    "\n",
    "metric = evaluate.load(\"sacrebleu\")"
   ]
  },
  {
   "cell_type": "code",
   "execution_count": 15,
   "id": "87a0f8c6",
   "metadata": {
    "id": "87a0f8c6"
   },
   "outputs": [],
   "source": [
    "import numpy as np\n",
    "def postprocess(preds,labels):\n",
    "    preds=[pred.strip() for pred in preds]\n",
    "    labels=[[label.strip()] for label in labels]\n",
    "    return preds,labels\n",
    "\n",
    "\n",
    "def compute_metrics(eval_preds):\n",
    "    preds,labels=eval_preds\n",
    "    if isinstance(preds,tuple):\n",
    "        preds=preds[0]\n",
    "    decoded_preds=tokenizer.batch_decode(preds,skip_special_tokens=True)\n",
    "        \n",
    "    labels = np.where(labels != -100, labels, tokenizer.pad_token_id)\n",
    "    decoded_labels = tokenizer.batch_decode(labels,skip_special_tokens=True)\n",
    "    decoded_preds, decoded_labels = postprocess(decoded_preds, decoded_labels)\n",
    "\n",
    "    result = metric.compute(predictions=decoded_preds, references=decoded_labels)\n",
    "    result = {\"bleu\": result[\"score\"]}\n",
    "\n",
    "    prediction_lens = [np.count_nonzero(pred != tokenizer.pad_token_id) for pred in preds]\n",
    "    result[\"gen_len\"] = np.mean(prediction_lens)\n",
    "    result = {k: round(v, 4) for k, v in result.items()}\n",
    "    return result"
   ]
  },
  {
   "cell_type": "code",
   "execution_count": 16,
   "id": "e81fb542",
   "metadata": {
    "id": "e81fb542"
   },
   "outputs": [],
   "source": [
    "from transformers import AutoModelForSeq2SeqLM, Seq2SeqTrainingArguments, Seq2SeqTrainer\n",
    "\n",
    "model = AutoModelForSeq2SeqLM.from_pretrained('facebook/nllb-200-distilled-600M')"
   ]
  },
  {
   "cell_type": "code",
   "execution_count": 17,
   "id": "c8c2db4f",
   "metadata": {
    "id": "c8c2db4f"
   },
   "outputs": [],
   "source": [
    "# import os\n",
    "\n",
    "# # set the wandb project where this run will be logged\n",
    "# os.environ[\"WANDB_PROJECT\"]=\"en-ben_NLLB_fine-tune-1\"\n",
    "\n",
    "# # save your trained model checkpoint to wandb\n",
    "# os.environ[\"WANDB_LOG_MODEL\"]=\"true\"\n",
    "\n",
    "# # turn off watch to log faster\n",
    "# os.environ[\"WANDB_WATCH\"]=\"false\""
   ]
  },
  {
   "cell_type": "code",
   "execution_count": 18,
   "id": "5f095d51",
   "metadata": {
    "id": "5f095d51",
    "outputId": "c45c67f7-9d45-47ab-ecc1-4c2832e14fab"
   },
   "outputs": [],
   "source": [
    "training_args = Seq2SeqTrainingArguments(\n",
    "    output_dir=\"fine_tune_model\",\n",
    "    # report_to=\"wandb\",\n",
    "    evaluation_strategy=\"epoch\",\n",
    "    learning_rate=2e-5,\n",
    "    per_device_train_batch_size=8,\n",
    "    per_device_eval_batch_size=8,\n",
    "    weight_decay=0.01,\n",
    "    save_total_limit=3,\n",
    "    num_train_epochs=5,\n",
    "    eval_accumulation_steps=50,\n",
    "    gradient_accumulation_steps=4,\n",
    "    predict_with_generate=True,\n",
    "    # push_to_hub=True,\n",
    ")\n",
    "\n",
    "trainer = Seq2SeqTrainer(\n",
    "    model=model,\n",
    "    args=training_args,\n",
    "    train_dataset=tokenized_train_data['train'],\n",
    "    eval_dataset=tokenized_test_data['test'],\n",
    "    tokenizer=tokenizer,\n",
    "    data_collator=data_collator,\n",
    "    compute_metrics=compute_metrics,\n",
    ")\n"
   ]
  },
  {
   "cell_type": "code",
   "execution_count": null,
   "id": "c7bff24f",
   "metadata": {
    "id": "c7bff24f"
   },
   "outputs": [
    {
     "name": "stderr",
     "output_type": "stream",
     "text": [
      "/home/jupyter/.local/lib/python3.10/site-packages/transformers/optimization.py:411: FutureWarning: This implementation of AdamW is deprecated and will be removed in a future version. Use the PyTorch implementation torch.optim.AdamW instead, or set `no_deprecation_warning=True` to disable this warning\n",
      "  warnings.warn(\n",
      "\u001b[34m\u001b[1mwandb\u001b[0m: Currently logged in as: \u001b[33miftesha1\u001b[0m. Use \u001b[1m`wandb login --relogin`\u001b[0m to force relogin\n"
     ]
    },
    {
     "data": {
      "text/html": [
       "Tracking run with wandb version 0.15.4"
      ],
      "text/plain": [
       "<IPython.core.display.HTML object>"
      ]
     },
     "metadata": {},
     "output_type": "display_data"
    },
    {
     "data": {
      "text/html": [
       "Run data is saved locally in <code>/home/jupyter/notebooks/notebook/wandb/run-20230702_065310-l5u37fmu</code>"
      ],
      "text/plain": [
       "<IPython.core.display.HTML object>"
      ]
     },
     "metadata": {},
     "output_type": "display_data"
    },
    {
     "data": {
      "text/html": [
       "Syncing run <strong><a href='https://wandb.ai/iftesha1/huggingface/runs/l5u37fmu' target=\"_blank\">hardy-bush-8</a></strong> to <a href='https://wandb.ai/iftesha1/huggingface' target=\"_blank\">Weights & Biases</a> (<a href='https://wandb.me/run' target=\"_blank\">docs</a>)<br/>"
      ],
      "text/plain": [
       "<IPython.core.display.HTML object>"
      ]
     },
     "metadata": {},
     "output_type": "display_data"
    },
    {
     "data": {
      "text/html": [
       " View project at <a href='https://wandb.ai/iftesha1/huggingface' target=\"_blank\">https://wandb.ai/iftesha1/huggingface</a>"
      ],
      "text/plain": [
       "<IPython.core.display.HTML object>"
      ]
     },
     "metadata": {},
     "output_type": "display_data"
    },
    {
     "data": {
      "text/html": [
       " View run at <a href='https://wandb.ai/iftesha1/huggingface/runs/l5u37fmu' target=\"_blank\">https://wandb.ai/iftesha1/huggingface/runs/l5u37fmu</a>"
      ],
      "text/plain": [
       "<IPython.core.display.HTML object>"
      ]
     },
     "metadata": {},
     "output_type": "display_data"
    },
    {
     "name": "stderr",
     "output_type": "stream",
     "text": [
      "You're using a NllbTokenizerFast tokenizer. Please note that with a fast tokenizer, using the `__call__` method is faster than using a method to encode the text followed by a call to the `pad` method to get a padded encoding.\n"
     ]
    },
    {
     "data": {
      "text/html": [
       "\n",
       "    <div>\n",
       "      \n",
       "      <progress value='3220' max='4520' style='width:300px; height:20px; vertical-align: middle;'></progress>\n",
       "      [3220/4520 14:34 < 05:53, 3.68 it/s, Epoch 3.56/5]\n",
       "    </div>\n",
       "    <table border=\"1\" class=\"dataframe\">\n",
       "  <thead>\n",
       " <tr style=\"text-align: left;\">\n",
       "      <th>Epoch</th>\n",
       "      <th>Training Loss</th>\n",
       "      <th>Validation Loss</th>\n",
       "      <th>Bleu</th>\n",
       "      <th>Gen Len</th>\n",
       "    </tr>\n",
       "  </thead>\n",
       "  <tbody>\n",
       "    <tr>\n",
       "      <td>0</td>\n",
       "      <td>0.671400</td>\n",
       "      <td>0.504450</td>\n",
       "      <td>45.777900</td>\n",
       "      <td>10.852700</td>\n",
       "    </tr>\n",
       "    <tr>\n",
       "      <td>1</td>\n",
       "      <td>0.387900</td>\n",
       "      <td>0.480756</td>\n",
       "      <td>47.945100</td>\n",
       "      <td>10.885300</td>\n",
       "    </tr>\n",
       "    <tr>\n",
       "      <td>2</td>\n",
       "      <td>0.336000</td>\n",
       "      <td>0.490055</td>\n",
       "      <td>47.803300</td>\n",
       "      <td>10.870800</td>\n",
       "    </tr>\n",
       "  </tbody>\n",
       "</table><p>"
      ],
      "text/plain": [
       "<IPython.core.display.HTML object>"
      ]
     },
     "metadata": {},
     "output_type": "display_data"
    }
   ],
   "source": [
    "trainer.train()"
   ]
  },
  {
   "cell_type": "code",
   "execution_count": null,
   "id": "NepOkcjnkeZK",
   "metadata": {
    "id": "NepOkcjnkeZK"
   },
   "outputs": [],
   "source": [
    "trainer.evalaute()"
   ]
  },
  {
   "cell_type": "code",
   "execution_count": null,
   "id": "e6b99e24",
   "metadata": {},
   "outputs": [],
   "source": [
    "trainer.save_model('/home/jupyter/notebooks/notebook/fine-tune/')"
   ]
  },
  {
   "cell_type": "code",
   "execution_count": null,
   "id": "pC2YG5PckhA1",
   "metadata": {
    "id": "pC2YG5PckhA1"
   },
   "outputs": [],
   "source": [
    "import torch\n",
    "torch.cuda.empty_cache()"
   ]
  },
  {
   "cell_type": "code",
   "execution_count": null,
   "id": "78c272ad",
   "metadata": {},
   "outputs": [],
   "source": [
    "path=r'https://raw.githubusercontent.com/Sk4467/datasets/main/bengali/bengali-visual-genome-test.txt'\n",
    "pred=read(path)"
   ]
  },
  {
   "cell_type": "code",
   "execution_count": null,
   "id": "b88ad03e",
   "metadata": {},
   "outputs": [],
   "source": [
    "from transformers import AutoTokenizer, AutoModelForSeq2SeqLM\n",
    "from nltk.translate.bleu_score import corpus_bleu\n",
    "\n",
    "model_name = '/home/jupyter/notebooks/notebook/fine-tune/'\n",
    "tokenizer = AutoTokenizer.from_pretrained(model_name)\n",
    "model = AutoModelForSeq2SeqLM.from_pretrained(model_name).to(\"cuda\")\n"
   ]
  },
  {
   "cell_type": "code",
   "execution_count": null,
   "id": "830627fa",
   "metadata": {},
   "outputs": [],
   "source": [
    "#encoding the inputs test sentences\n",
    "encoded_inputs=tokenizer(test_sentences,padding=True,truncation=True,return_tensors='pt').to(torch.device(\"cuda\"))\n"
   ]
  },
  {
   "cell_type": "code",
   "execution_count": null,
   "id": "4d570ae3",
   "metadata": {},
   "outputs": [],
   "source": [
    "with torch.no_grad():\n",
    "    outputs=model.generate(\n",
    "    input_ids=encoded_inputs['input_ids'],\n",
    "    attention_mask=encoded_inputs['attention_mask'],\n",
    "    max_length=128\n",
    "    )"
   ]
  },
  {
   "cell_type": "code",
   "execution_count": null,
   "id": "cb759c2f",
   "metadata": {},
   "outputs": [],
   "source": [
    "translated_sentences=tokenizera.batch_decode(outputs,skip_special_tokens=True)"
   ]
  },
  {
   "cell_type": "code",
   "execution_count": null,
   "id": "d3893c84",
   "metadata": {},
   "outputs": [],
   "source": [
    "import nltk\n",
    "from nltk.translate.bleu_score import corpus_bleu,sentence_bleu"
   ]
  },
  {
   "cell_type": "code",
   "execution_count": null,
   "id": "2a5213b6",
   "metadata": {},
   "outputs": [],
   "source": [
    "actual_translations=pred['hindi'].to_list()\n",
    "predicted_translations=translated_sentences"
   ]
  },
  {
   "cell_type": "code",
   "execution_count": null,
   "id": "9585c1c1",
   "metadata": {},
   "outputs": [],
   "source": [
    "len(predicted_translations)"
   ]
  },
  {
   "cell_type": "code",
   "execution_count": null,
   "id": "d969d6a3",
   "metadata": {},
   "outputs": [],
   "source": [
    "actual_tokenized=[[nltk.word_tokenize(sentence)] for sentence in actual_translations]\n",
    "predicted_tokenized=[nltk.word_tokenize(sentence) for sentence in predicted_translations]"
   ]
  },
  {
   "cell_type": "code",
   "execution_count": null,
   "id": "726c1963",
   "metadata": {},
   "outputs": [],
   "source": [
    "\n",
    "bleu_score=corpus_bleu(actual_tokenized,predicted_tokenized,weights=(1,0,0,0))\n",
    "print(f\"BLEU-score: {bleu_score}\")"
   ]
  },
  {
   "cell_type": "code",
   "execution_count": null,
   "id": "b761380e",
   "metadata": {},
   "outputs": [],
   "source": [
    "def write_to_file(sentences,path):\n",
    "    with open(path,'w',encoding='utf-8') as file:\n",
    "        for sentence in sentences:\n",
    "            file.write(sentence+'\\n')"
   ]
  },
  {
   "cell_type": "code",
   "execution_count": null,
   "id": "f28f19ec",
   "metadata": {},
   "outputs": [],
   "source": [
    "path='ben_translation_eval_test.txt'\n",
    "write_to_file(translated_sentences,path)"
   ]
  }
 ],
 "metadata": {
  "colab": {
   "provenance": []
  },
  "kernelspec": {
   "display_name": "Python 3 (ipykernel)",
   "language": "python",
   "name": "python3"
  },
  "language_info": {
   "codemirror_mode": {
    "name": "ipython",
    "version": 3
   },
   "file_extension": ".py",
   "mimetype": "text/x-python",
   "name": "python",
   "nbconvert_exporter": "python",
   "pygments_lexer": "ipython3",
   "version": "3.10.9"
  }
 },
 "nbformat": 4,
 "nbformat_minor": 5
}
