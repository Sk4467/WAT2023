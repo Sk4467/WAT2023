{
 "cells": [
  {
   "cell_type": "code",
   "execution_count": 9,
   "id": "a004f638",
   "metadata": {
    "id": "a004f638"
   },
   "outputs": [],
   "source": [
    "import numpy as np\n",
    "import pandas as pd"
   ]
  },
  {
   "cell_type": "code",
   "execution_count": 10,
   "id": "972bd166",
   "metadata": {
    "id": "972bd166"
   },
   "outputs": [],
   "source": [
    "def read(path):\n",
    "    df=pd.read_csv(path,delimiter='\\t',header=None)\n",
    "    df.rename(columns={0:'image_id',1:'x',2:'y',3:'width',4:'height',5:'english',6:'malayalam'},inplace=True)\n",
    "    df.drop(columns=['x','y','width','height'],axis=1,inplace=True)\n",
    "    return df"
   ]
  },
  {
   "cell_type": "code",
   "execution_count": 11,
   "id": "00260e27",
   "metadata": {
    "id": "00260e27"
   },
   "outputs": [],
   "source": [
    "\n",
    "train_path=r'https://raw.githubusercontent.com/Sk4467/datasets/main/malayalam/malayalam-visual-genome-train.txt'\n",
    "test_path=r'https://raw.githubusercontent.com/Sk4467/datasets/main/malayalam/malayalam-visual-genome-dev.txt'"
   ]
  },
  {
   "cell_type": "code",
   "execution_count": 12,
   "id": "e0f6c8b9",
   "metadata": {
    "id": "e0f6c8b9"
   },
   "outputs": [],
   "source": [
    "train=read(train_path)\n",
    "test=read(test_path)"
   ]
  },
  {
   "cell_type": "code",
   "execution_count": 13,
   "id": "d4a918a9",
   "metadata": {
    "id": "d4a918a9"
   },
   "outputs": [],
   "source": [
    "# !pip install datasets transformers evaluate sacrebleu\n",
    "\n",
    "###########################################################################\n",
    "# !pip install --upgrade accelerate\n",
    "# !pip uninstall -y transformers accelerate\n",
    "# !pip install transformers accelerate"
   ]
  },
  {
   "cell_type": "code",
   "execution_count": 14,
   "id": "c98b6163",
   "metadata": {
    "id": "c98b6163"
   },
   "outputs": [],
   "source": [
    "import datasets\n",
    "from datasets import Dataset, DatasetDict\n",
    "train_dataset = datasets.Dataset.from_pandas(train)\n",
    "train_data = datasets.DatasetDict({'train':train_dataset})"
   ]
  },
  {
   "cell_type": "code",
   "execution_count": 15,
   "id": "8afa2224",
   "metadata": {
    "id": "8afa2224",
    "outputId": "027f69e2-c410-4826-f000-726ed5874d71"
   },
   "outputs": [
    {
     "name": "stdout",
     "output_type": "stream",
     "text": [
      "<class 'datasets.dataset_dict.DatasetDict'>\n",
      "{'train': (28930, 3)}\n",
      "DatasetDict({\n",
      "    train: Dataset({\n",
      "        features: ['image_id', 'english', 'malayalam'],\n",
      "        num_rows: 28930\n",
      "    })\n",
      "})\n"
     ]
    }
   ],
   "source": [
    "print(type(train_data))\n",
    "print(train_data.shape)\n",
    "print(train_data)"
   ]
  },
  {
   "cell_type": "code",
   "execution_count": 16,
   "id": "a775849b",
   "metadata": {
    "id": "a775849b"
   },
   "outputs": [],
   "source": [
    "test_dataset = datasets.Dataset.from_pandas(test)\n",
    "test_data = datasets.DatasetDict({'test':test_dataset})"
   ]
  },
  {
   "cell_type": "code",
   "execution_count": 17,
   "id": "a6d8dd5e",
   "metadata": {
    "id": "a6d8dd5e"
   },
   "outputs": [],
   "source": [
    "from transformers import AutoTokenizer\n",
    "\n",
    "checkpoint = \"facebook/nllb-200-distilled-600M\"\n",
    "tokenizer = AutoTokenizer.from_pretrained(checkpoint)"
   ]
  },
  {
   "cell_type": "code",
   "execution_count": 18,
   "id": "34ffe5bb",
   "metadata": {
    "id": "34ffe5bb"
   },
   "outputs": [],
   "source": [
    "# prefix=\"translate English to hindi : \"\n",
    "def preprocess(data):\n",
    "\n",
    "    inputs=[text for text in data['english']]\n",
    "    target=[text for text in data['malayalam']]\n",
    "\n",
    "    model_inputs = {\n",
    "        'id': data['image_id'] ,\n",
    "        'translation': target,  # assign 'translation' directly to 'target'\n",
    "        'input_ids': [],\n",
    "        'attention_mask': [],\n",
    "        'labels' : []\n",
    "    }\n",
    "\n",
    "    try:\n",
    "        # Tokenize all inputs and targets at once, which is more efficient\n",
    "        tokenized_samples = tokenizer(inputs, max_length=128, truncation=True)\n",
    "        labels= tokenizer(target,max_length=128,truncation=True)\n",
    "\n",
    "        # Assign the tokenized samples directly to 'input_ids', 'attention_mask', and 'labels'\n",
    "        model_inputs['input_ids'] = tokenized_samples['input_ids']\n",
    "        model_inputs['attention_mask'] = tokenized_samples['attention_mask']\n",
    "        model_inputs['labels'] = labels['input_ids']  \n",
    "        \n",
    "    except Exception as e:\n",
    "        print(f\"Error occurred: {e}\")\n",
    "\n",
    "    return model_inputs"
   ]
  },
  {
   "cell_type": "code",
   "execution_count": 19,
   "id": "5e857089",
   "metadata": {
    "colab": {
     "referenced_widgets": [
      ""
     ]
    },
    "id": "5e857089",
    "outputId": "080a52d5-e0ff-4b3c-93f6-db50ea85c2fd"
   },
   "outputs": [
    {
     "data": {
      "application/vnd.jupyter.widget-view+json": {
       "model_id": "",
       "version_major": 2,
       "version_minor": 0
      },
      "text/plain": [
       "Map:   0%|          | 0/28930 [00:00<?, ? examples/s]"
      ]
     },
     "metadata": {},
     "output_type": "display_data"
    },
    {
     "data": {
      "application/vnd.jupyter.widget-view+json": {
       "model_id": "",
       "version_major": 2,
       "version_minor": 0
      },
      "text/plain": [
       "Map:   0%|          | 0/998 [00:00<?, ? examples/s]"
      ]
     },
     "metadata": {},
     "output_type": "display_data"
    }
   ],
   "source": [
    "tokenized_train_data=train_data.map(preprocess,batched=True)\n",
    "tokenized_test_data=test_data.map(preprocess,batched=True)"
   ]
  },
  {
   "cell_type": "code",
   "execution_count": 20,
   "id": "048d2bf8",
   "metadata": {
    "id": "048d2bf8",
    "outputId": "71abec31-c90f-408e-93db-72bede511609"
   },
   "outputs": [
    {
     "name": "stdout",
     "output_type": "stream",
     "text": [
      "DatasetDict({\n",
      "    train: Dataset({\n",
      "        features: ['image_id', 'english', 'malayalam', 'id', 'translation', 'input_ids', 'attention_mask', 'labels'],\n",
      "        num_rows: 28930\n",
      "    })\n",
      "})\n"
     ]
    }
   ],
   "source": [
    "print(tokenized_train_data)"
   ]
  },
  {
   "cell_type": "code",
   "execution_count": 21,
   "id": "d2625c1b",
   "metadata": {
    "id": "d2625c1b"
   },
   "outputs": [],
   "source": [
    "from transformers import DataCollatorForSeq2Seq\n",
    "\n",
    "data_collator = DataCollatorForSeq2Seq(tokenizer=tokenizer, model='facebook/nllb-200-distilled-600M')"
   ]
  },
  {
   "cell_type": "code",
   "execution_count": 22,
   "id": "2acc0613",
   "metadata": {
    "id": "2acc0613"
   },
   "outputs": [],
   "source": [
    "import evaluate\n",
    "\n",
    "metric = evaluate.load(\"sacrebleu\")"
   ]
  },
  {
   "cell_type": "code",
   "execution_count": 23,
   "id": "7f5f59ae",
   "metadata": {
    "id": "7f5f59ae"
   },
   "outputs": [],
   "source": [
    "import numpy as np\n",
    "def postprocess(preds,labels):\n",
    "    preds=[pred.strip() for pred in preds]\n",
    "    labels=[[label.strip()] for label in labels]\n",
    "    return preds,labels\n",
    "\n",
    "\n",
    "def compute_metrics(eval_preds):\n",
    "    preds,labels=eval_preds\n",
    "    if isinstance(preds,tuple):\n",
    "        preds=preds[0]\n",
    "    decoded_preds=tokenizer.batch_decode(preds,skip_special_tokens=True)\n",
    "        \n",
    "    labels = np.where(labels != -100, labels, tokenizer.pad_token_id)\n",
    "    decoded_labels = tokenizer.batch_decode(labels,skip_special_tokens=True)\n",
    "    decoded_preds, decoded_labels = postprocess(decoded_preds, decoded_labels)\n",
    "\n",
    "    result = metric.compute(predictions=decoded_preds, references=decoded_labels)\n",
    "    result = {\"bleu\": result[\"score\"]}\n",
    "\n",
    "    prediction_lens = [np.count_nonzero(pred != tokenizer.pad_token_id) for pred in preds]\n",
    "    result[\"gen_len\"] = np.mean(prediction_lens)\n",
    "    result = {k: round(v, 4) for k, v in result.items()}\n",
    "    return result"
   ]
  },
  {
   "cell_type": "code",
   "execution_count": null,
   "id": "845b6e48",
   "metadata": {
    "id": "845b6e48"
   },
   "outputs": [],
   "source": [
    "from transformers import AutoModelForSeq2SeqLM, Seq2SeqTrainingArguments, Seq2SeqTrainer\n",
    "\n",
    "model = AutoModelForSeq2SeqLM.from_pretrained('facebook/nllb-200-distilled-600M')"
   ]
  },
  {
   "cell_type": "code",
   "execution_count": null,
   "id": "b0ebc41f",
   "metadata": {
    "id": "b0ebc41f"
   },
   "outputs": [],
   "source": [
    "# import os\n",
    "# # set the wandb project where this run will be logged\n",
    "# os.environ[\"WANDB_PROJECT\"]=\"en-hin_NLLB_fine-tune-1\"\n",
    "\n",
    "# # save your trained model checkpoint to wandb\n",
    "# os.environ[\"WANDB_LOG_MODEL\"]=\"true\"\n",
    "\n",
    "# # turn off watch to log faster\n",
    "# os.environ[\"WANDB_WATCH\"]=\"false\""
   ]
  },
  {
   "cell_type": "code",
   "execution_count": null,
   "id": "e37b1273",
   "metadata": {
    "id": "e37b1273",
    "outputId": "292ec06b-7f9c-478b-9026-cf58c354d07a"
   },
   "outputs": [],
   "source": [
    "training_args = Seq2SeqTrainingArguments(\n",
    "    output_dir=\"fine_tune_model\",\n",
    "    # report_to=\"wandb\",\n",
    "    evaluation_strategy=\"epoch\",\n",
    "    learning_rate=2e-5,\n",
    "    per_device_train_batch_size=8,\n",
    "    per_device_eval_batch_size=8,\n",
    "    weight_decay=0.01,\n",
    "    save_total_limit=3,\n",
    "    num_train_epochs=5,\n",
    "    eval_accumulation_steps=50,\n",
    "    gradient_accumulation_steps=4,\n",
    "    predict_with_generate=True,\n",
    "    # push_to_hub=True,\n",
    ")\n",
    "\n",
    "trainer = Seq2SeqTrainer(\n",
    "    model=model,\n",
    "    args=training_args,\n",
    "    train_dataset=tokenized_train_data['train'],\n",
    "    eval_dataset=tokenized_test_data['test'],\n",
    "    tokenizer=tokenizer,\n",
    "    data_collator=data_collator,\n",
    "    compute_metrics=compute_metrics,\n",
    ")\n"
   ]
  },
  {
   "cell_type": "code",
   "execution_count": null,
   "id": "6f68fb3e",
   "metadata": {
    "id": "6f68fb3e",
    "outputId": "115afa5b-06b1-48c5-966c-cbeb67aa240f"
   },
   "outputs": [],
   "source": [
    "trainer.train()"
   ]
  },
  {
   "cell_type": "code",
   "execution_count": null,
   "id": "4ce8c9f9",
   "metadata": {
    "id": "4ce8c9f9"
   },
   "outputs": [],
   "source": [
    "trainer.evaluate()"
   ]
  },
  {
   "cell_type": "code",
   "execution_count": null,
   "id": "5fee9220",
   "metadata": {},
   "outputs": [],
   "source": [
    "trainer.save_model('/home/jupyter/notebooks/notebook/fine-tune-mal/')"
   ]
  },
  {
   "cell_type": "code",
   "execution_count": 21,
   "id": "6221181f",
   "metadata": {},
   "outputs": [],
   "source": [
    "import torch\n",
    "torch.cuda.empty_cache()"
   ]
  },
  {
   "cell_type": "code",
   "execution_count": null,
   "id": "57bd786e",
   "metadata": {},
   "outputs": [],
   "source": [
    "path=r'https://raw.githubusercontent.com/Sk4467/datasets/main/malayalam/malayalam-visual-genome-test.txt'\n",
    "pred=read(path)"
   ]
  },
  {
   "cell_type": "code",
   "execution_count": null,
   "id": "21b5271d",
   "metadata": {},
   "outputs": [],
   "source": [
    "from transformers import AutoTokenizer, AutoModelForSeq2SeqLM\n",
    "from nltk.translate.bleu_score import corpus_bleu\n",
    "\n",
    "model_name = '/home/jupyter/notebooks/notebook/fine-tune-mal/'\n",
    "tokenizer = AutoTokenizer.from_pretrained(model_name)\n",
    "model = AutoModelForSeq2SeqLM.from_pretrained(model_name).to(\"cuda\")\n"
   ]
  },
  {
   "cell_type": "code",
   "execution_count": null,
   "id": "8d147cd7",
   "metadata": {},
   "outputs": [],
   "source": [
    "test_sentences=pred['english'].to_list()"
   ]
  },
  {
   "cell_type": "code",
   "execution_count": null,
   "id": "637684b2",
   "metadata": {},
   "outputs": [],
   "source": [
    "#encoding the inputs test sentences\n",
    "encoded_inputs=tokenizer(test_sentences,padding=True,truncation=True,return_tensors='pt').to(torch.device(\"cuda\"))\n"
   ]
  },
  {
   "cell_type": "code",
   "execution_count": null,
   "id": "3859421d",
   "metadata": {},
   "outputs": [],
   "source": [
    "with torch.no_grad():\n",
    "    outputs=model.generate(\n",
    "    input_ids=encoded_inputs['input_ids'],\n",
    "    attention_mask=encoded_inputs['attention_mask'],\n",
    "    max_length=128\n",
    "    )"
   ]
  },
  {
   "cell_type": "code",
   "execution_count": null,
   "id": "1dbd031b",
   "metadata": {},
   "outputs": [],
   "source": [
    "translated_sentences=tokenizera.batch_decode(outputs,skip_special_tokens=True)"
   ]
  },
  {
   "cell_type": "code",
   "execution_count": null,
   "id": "b5918c88",
   "metadata": {},
   "outputs": [],
   "source": [
    "import nltk\n",
    "from nltk.translate.bleu_score import corpus_bleu,sentence_bleu"
   ]
  },
  {
   "cell_type": "code",
   "execution_count": null,
   "id": "48da93dc",
   "metadata": {},
   "outputs": [],
   "source": [
    "actual_translations=pred['hindi'].to_list()\n",
    "predicted_translations=translated_sentences"
   ]
  },
  {
   "cell_type": "code",
   "execution_count": null,
   "id": "fcd9d52d",
   "metadata": {},
   "outputs": [],
   "source": [
    "len(predicted_translations)"
   ]
  },
  {
   "cell_type": "code",
   "execution_count": null,
   "id": "a854b9bf",
   "metadata": {},
   "outputs": [],
   "source": [
    "actual_tokenized=[[nltk.word_tokenize(sentence)] for sentence in actual_translations]\n",
    "predicted_tokenized=[nltk.word_tokenize(sentence) for sentence in predicted_translations]"
   ]
  },
  {
   "cell_type": "code",
   "execution_count": null,
   "id": "4794974a",
   "metadata": {},
   "outputs": [],
   "source": [
    "\n",
    "bleu_score=corpus_bleu(actual_tokenized,predicted_tokenized,weights=(1,0,0,0))\n",
    "print(f\"BLEU-score: {bleu_score}\")"
   ]
  },
  {
   "cell_type": "code",
   "execution_count": null,
   "id": "a6c3559c",
   "metadata": {},
   "outputs": [],
   "source": [
    "def write_to_file(sentences,path):\n",
    "    with open(path,'w',encoding='utf-8') as file:\n",
    "        for sentence in sentences:\n",
    "            file.write(sentence+'\\n')"
   ]
  },
  {
   "cell_type": "code",
   "execution_count": null,
   "id": "e4c047ba",
   "metadata": {},
   "outputs": [],
   "source": [
    "path='malyalam_translation_eval_test.txt'\n",
    "write_to_file(translated_sentences,path)"
   ]
  }
 ],
 "metadata": {
  "colab": {
   "provenance": []
  },
  "kernelspec": {
   "display_name": "Python 3 (ipykernel)",
   "language": "python",
   "name": "python3"
  },
  "language_info": {
   "codemirror_mode": {
    "name": "ipython",
    "version": 3
   },
   "file_extension": ".py",
   "mimetype": "text/x-python",
   "name": "python",
   "nbconvert_exporter": "python",
   "pygments_lexer": "ipython3",
   "version": "3.10.9"
  }
 },
 "nbformat": 4,
 "nbformat_minor": 5
}
